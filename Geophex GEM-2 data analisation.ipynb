{
 "cells": [
  {
   "cell_type": "code",
   "execution_count": null,
   "metadata": {},
   "outputs": [],
   "source": []
  },
  {
   "cell_type": "code",
   "execution_count": null,
   "metadata": {},
   "outputs": [],
   "source": [
    "import pandas as pd\n",
    "import matplotlib.pyplot as plt\n",
    "import seaborn as sns"
   ]
  },
  {
   "cell_type": "code",
   "execution_count": null,
   "metadata": {},
   "outputs": [],
   "source": [
    "gem_path = 'YOUR PATH HERE' #Assign to the gem_plath variable's the file path XLSX files\n",
    "df_gem= pd.read_excel(gem_path) # Read the document in the path variable's and assign it too the df_gem variable\n",
    "header = list(df_gem.columns) # Create a list with the header of your columns"
   ]
  },
  {
   "cell_type": "code",
   "execution_count": null,
   "metadata": {},
   "outputs": [],
   "source": [
    "# As the data usually has lots of column that aren't needed here it will ask one by one which one you wanna remove\n",
    "# or keep\n",
    "\n",
    "for title in header: # Headers. \n",
    "    borrar = input(\"¿Do you want to delete the column \" + title + \"(y/n): \")\n",
    "    if borrar == \"y\":\n",
    "        df_gem = df_gem.drop(title, axis=1)\n",
    "    else:\n",
    "        continue"
   ]
  },
  {
   "cell_type": "code",
   "execution_count": null,
   "metadata": {},
   "outputs": [],
   "source": [
    "# Print a list with the remaining columns\n",
    "\n",
    "print(df_gem.columns)"
   ]
  },
  {
   "cell_type": "code",
   "execution_count": null,
   "metadata": {},
   "outputs": [],
   "source": [
    "# Pandas description for the Total EC column. Next step will be ask for which colum you want the description\n",
    "# More percentile have been added to use to cut the data (the smaller and higher ones)\n",
    "\n",
    "EC = df_gem.loc[:,'TotalEC[mS/m]']\n",
    "EC.describe([0.05,0.1,.25, .5, .75,0.9,0.95])"
   ]
  },
  {
   "cell_type": "code",
   "execution_count": null,
   "metadata": {},
   "outputs": [],
   "source": [
    "# Here it asks for the low cut off value. All values lower than our cut off will be removed and SAVE in a NEW DATAFRAME\n",
    "min = int(input(\"Introduce your lower cut off value(Ej. 5-10%): \"))\n",
    "df_gem2 = df_gem[df_gem['TotalEC[mS/m]']>min]"
   ]
  },
  {
   "cell_type": "code",
   "execution_count": null,
   "metadata": {},
   "outputs": [],
   "source": [
    "# Here it asks for the high cut off value. All values higher than our cut off will be removed and SAVE in a NEW DATAFRAME\n",
    "max = int(input(\"Introduce your higher cut off value (Ej: 90-95%): \"))\n",
    "df_gem3 = df_gem2[df_gem2['TotalEC[mS/m]']>max]"
   ]
  },
  {
   "cell_type": "code",
   "execution_count": null,
   "metadata": {},
   "outputs": [],
   "source": [
    "# Here saves the new DF with our cut offs\n",
    "# df_gem3.to_csv(r'C:\\Users\\XXX\\Desktop\\XXX\\XXX\\df_gem.csv')"
   ]
  },
  {
   "cell_type": "code",
   "execution_count": null,
   "metadata": {},
   "outputs": [],
   "source": [
    "# Plot X and Y values for the new dataframe (after apply new cut offs)\n",
    "sns.kdeplot(df_gem3.X, df_gem3.Y, cmap=\"Reds\", shade=True, shade_lowest=True, )\n"
   ]
  }
 ],
 "metadata": {
  "kernelspec": {
   "display_name": "Python 3",
   "language": "python",
   "name": "python3"
  },
  "language_info": {
   "codemirror_mode": {
    "name": "ipython",
    "version": 3
   },
   "file_extension": ".py",
   "mimetype": "text/x-python",
   "name": "python",
   "nbconvert_exporter": "python",
   "pygments_lexer": "ipython3",
   "version": "3.8.2"
  }
 },
 "nbformat": 4,
 "nbformat_minor": 4
}
